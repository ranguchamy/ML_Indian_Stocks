{
 "cells": [
  {
   "cell_type": "code",
   "execution_count": 14,
   "id": "051ed73e-3025-4732-b70e-37f002b8e043",
   "metadata": {},
   "outputs": [
    {
     "name": "stdout",
     "output_type": "stream",
     "text": [
      "[*********************100%%**********************]  1 of 1 completed\n",
      "Sector: Technology\n",
      "Industry: Computer Hardware\n"
     ]
    },
    {
     "name": "stderr",
     "output_type": "stream",
     "text": [
      "C:\\Users\\91908\\AppData\\Roaming\\Python\\Python39\\site-packages\\yfinance\\utils.py:782: FutureWarning: The 'unit' keyword in TimedeltaIndex construction is deprecated and will be removed in a future version. Use pd.to_timedelta instead.\n",
      "  df.index += _pd.TimedeltaIndex(dst_error_hours, 'h')\n"
     ]
    }
   ],
   "source": [
    "import yfinance as yf\n",
    "\n",
    "# Retrieve historical data for 'IDEAFORGE.NS' for the specified date range\n",
    "historical_data = yf.download('IDEAFORGE.NS', start='2024-01-02', end='2024-01-04')\n",
    "\n",
    "# Extract sector and industry information\n",
    "# Note: This assumes that the sector and industry information is available in the 'info' attribute\n",
    "sector = yf.Ticker('IDEAFORGE.NS').info.get('sector', 'N/A')\n",
    "industry = yf.Ticker('IDEAFORGE.NS').info.get('industry', 'N/A')\n",
    "\n",
    "# Print sector and industry information\n",
    "print(\"Sector:\", sector)\n",
    "print(\"Industry:\", industry)\n"
   ]
  },
  {
   "cell_type": "code",
   "execution_count": 11,
   "id": "02fdb828-de45-45d0-9fac-90ed5acdfe6b",
   "metadata": {},
   "outputs": [
    {
     "name": "stdout",
     "output_type": "stream",
     "text": [
      "Company Name: Apple Inc.\n",
      "Sector: Technology\n",
      "Industry: Consumer Electronics\n",
      "Country: United States\n",
      "Market Cap: 2923151753216\n",
      "Enterprise Value: 2958087946240\n",
      "Trailing P/E Ratio: 29.394411\n",
      "Forward P/E Ratio: 26.438549\n",
      "PEG Ratio: 2.59\n",
      "Price-to-Sales Ratio: 7.5787044\n",
      "Price-to-Book Ratio: 39.495094\n",
      "Earnings Per Share (EPS): 6.44\n",
      "Forward Earnings Per Share (EPS): 7.16\n",
      "Dividend Yield: 0.0050999997\n",
      "Payout Ratio: 0.14770001\n",
      "Ex-Dividend Date: 1707436800\n",
      "Dividend Rate: 0.96\n",
      "Beta: 1.312\n"
     ]
    }
   ],
   "source": [
    "import yfinance as yf\n",
    "\n",
    "# Replace 'AAPL' with the actual ticker symbol of the company you're interested in\n",
    "ticker_data = yf.Ticker('AAPL')\n",
    "\n",
    "# Extract fundamental information\n",
    "company_name = ticker_data.info.get('longName', 'N/A')  # Company name\n",
    "sector = ticker_data.info.get('sector', 'N/A')  # Sector\n",
    "industry = ticker_data.info.get('industry', 'N/A')  # Industry\n",
    "country = ticker_data.info.get('country', 'N/A')  # Country of headquarters\n",
    "market_cap = ticker_data.info.get('marketCap', 'N/A')  # Market capitalization\n",
    "enterprise_value = ticker_data.info.get('enterpriseValue', 'N/A')  # Enterprise value\n",
    "trailing_pe_ratio = ticker_data.info.get('trailingPE', 'N/A')  # Trailing P/E ratio\n",
    "forward_pe_ratio = ticker_data.info.get('forwardPE', 'N/A')  # Forward P/E ratio\n",
    "peg_ratio = ticker_data.info.get('pegRatio', 'N/A')  # PEG ratio\n",
    "price_to_sales_ratio = ticker_data.info.get('priceToSalesTrailing12Months', 'N/A')  # Price-to-sales ratio\n",
    "price_to_book_ratio = ticker_data.info.get('priceToBook', 'N/A')  # Price-to-book ratio\n",
    "earnings_per_share = ticker_data.info.get('trailingEps', 'N/A')  # Earnings per share (EPS)\n",
    "forward_earnings_per_share = ticker_data.info.get('forwardEps', 'N/A')  # Forward earnings per share (EPS)\n",
    "dividend_yield = ticker_data.info.get('dividendYield', 'N/A')  # Dividend yield\n",
    "payout_ratio = ticker_data.info.get('payoutRatio', 'N/A')  # Payout ratio\n",
    "ex_dividend_date = ticker_data.info.get('exDividendDate', 'N/A')  # Ex-dividend date\n",
    "dividend_rate = ticker_data.info.get('dividendRate', 'N/A')  # Dividend rate\n",
    "beta = ticker_data.info.get('beta', 'N/A')  # Beta\n",
    "\n",
    "# Display extracted fundamental information\n",
    "print(\"Company Name:\", company_name)\n",
    "print(\"Sector:\", sector)\n",
    "print(\"Industry:\", industry)\n",
    "print(\"Country:\", country)\n",
    "print(\"Market Cap:\", market_cap)\n",
    "print(\"Enterprise Value:\", enterprise_value)\n",
    "print(\"Trailing P/E Ratio:\", trailing_pe_ratio)\n",
    "print(\"Forward P/E Ratio:\", forward_pe_ratio)\n",
    "print(\"PEG Ratio:\", peg_ratio)\n",
    "print(\"Price-to-Sales Ratio:\", price_to_sales_ratio)\n",
    "print(\"Price-to-Book Ratio:\", price_to_book_ratio)\n",
    "print(\"Earnings Per Share (EPS):\", earnings_per_share)\n",
    "print(\"Forward Earnings Per Share (EPS):\", forward_earnings_per_share)\n",
    "print(\"Dividend Yield:\", dividend_yield)\n",
    "print(\"Payout Ratio:\", payout_ratio)\n",
    "print(\"Ex-Dividend Date:\", ex_dividend_date)\n",
    "print(\"Dividend Rate:\", dividend_rate)\n",
    "print(\"Beta:\", beta)\n"
   ]
  },
  {
   "cell_type": "code",
   "execution_count": null,
   "id": "24880c4e-4efa-4fd4-9e17-c2eb41b07d5c",
   "metadata": {},
   "outputs": [],
   "source": []
  }
 ],
 "metadata": {
  "kernelspec": {
   "display_name": "Python 3 (ipykernel)",
   "language": "python",
   "name": "python3"
  },
  "language_info": {
   "codemirror_mode": {
    "name": "ipython",
    "version": 3
   },
   "file_extension": ".py",
   "mimetype": "text/x-python",
   "name": "python",
   "nbconvert_exporter": "python",
   "pygments_lexer": "ipython3",
   "version": "3.9.1"
  }
 },
 "nbformat": 4,
 "nbformat_minor": 5
}
