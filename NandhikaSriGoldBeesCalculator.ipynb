{
 "cells": [
  {
   "cell_type": "code",
   "execution_count": null,
   "id": "15417898-28ed-4599-b84d-18d01a966a7d",
   "metadata": {},
   "outputs": [],
   "source": [
    "GoldBees Calcuation"
   ]
  },
  {
   "cell_type": "code",
   "execution_count": null,
   "id": "d6bb59e8-a046-4532-80a6-fefce420eeb6",
   "metadata": {},
   "outputs": [],
   "source": [
    "import yfinance as yf\n",
    "from datetime import datetime, timedelta\n",
    "\n",
    "def predicting_price(symbol):\n",
    "    start_date = datetime.today() - timedelta(days=1095)\n",
    "    end_date = datetime.today()\n",
    "    \n",
    "    # Fetch historical price data\n",
    "    df = yf.download(symbol + \".NS\", start=start_date, end=end_date)\n",
    "    \n",
    "    # Resample to monthly frequency with month start and reset the index\n",
    "    monthly_df = df['Close'].resample('MS').first().reset_index()\n",
    "\n",
    "    # Save the DataFrame to CSV\n",
    "    output_path = r'C:\\Users\\91908\\Documents\\Nandhika Sri\\ShareMarketInvestment\\Return_Calculator\\adj_close_data.csv'\n",
    "    monthly_df.to_csv(output_path, index=False)\n",
    "    \n",
    "    print(f\"Adj Close data has been saved to: {output_path}\")\n",
    "\n",
    "# Example usage\n",
    "predicting_price(\"GOLDBEES\")\n"
   ]
  },
  {
   "cell_type": "code",
   "execution_count": null,
   "id": "c143f942-3251-4baf-82b1-90b106205293",
   "metadata": {},
   "outputs": [],
   "source": []
  },
  {
   "cell_type": "code",
   "execution_count": 12,
   "id": "43afd7f6-3a1b-4f7b-b3bf-b759d94beb49",
   "metadata": {},
   "outputs": [
    {
     "name": "stdout",
     "output_type": "stream",
     "text": [
      "XIRR: 0.009310414311018533\n",
      "XIRR: 0.93%\n"
     ]
    }
   ],
   "source": [
    "import numpy_financial as npf\n",
    "import pandas as pd\n",
    "\n",
    "# Assuming you have a DataFrame named cash_flow_table with 'Date' and 'Investment' columns\n",
    "# Date should be in datetime format\n",
    "cash_flow_table = pd.DataFrame({\n",
    "    'Date': ['01-01-2021', '01-02-2021', '01-03-2021', '01-04-2021', '01-05-2021', '01-06-2021', '01-07-2021', '01-08-2021', '01-09-2021', '01-10-2021', '01-11-2021', '01-12-2021', '01-01-2022', '01-02-2022', '01-03-2022', '01-04-2022', '01-05-2022', '01-06-2022', '01-07-2022', '01-08-2022', '01-09-2022', '01-10-2022', '01-11-2022', '01-12-2022', '01-01-2023', '01-02-2023', '01-03-2023', '01-04-2023', '01-05-2023', '01-06-2023', '01-07-2023', '01-08-2023', '01-09-2023', '01-10-2023', '01-11-2023', '01-12-2023', '01-01-2024','01-02-2024'],\n",
    "    'Investment': [-42.54, -42.34, -39.96, -39.10, -40.69, -42.83, -40.91, -41.53, -40.83, -40.21, -41.28, -41.21, -41.73, -41.55, -44.39, -44.57, -44.16, -43.52, -44.36, -44.22, -43.35, -43.14, -43.31, -45.37, -47.17, -49.41, -47.77, -50.80, -51.31, -50.99, -49.56, -50.69, -50.37, -48.83, -51.76, -53.29, -53.74, 1988],\n",
    "})\n",
    "\n",
    "# Convert the 'Date' column to datetime format with the desired format\n",
    "cash_flow_table['Date'] = pd.to_datetime(cash_flow_table['Date'], format='%d-%m-%Y')\n",
    "\n",
    "# Calculate XIRR\n",
    "xirr = npf.irr(cash_flow_table['Investment'])\n",
    "\n",
    "# Print the result\n",
    "print(f\"XIRR: {xirr}\")\n",
    "# Print the result as a percentage\n",
    "print(f\"XIRR: {xirr * 100:.2f}%\")\n",
    "\n"
   ]
  },
  {
   "cell_type": "code",
   "execution_count": null,
   "id": "3bfea721-e6e2-437b-92f7-ddc15193c7ec",
   "metadata": {},
   "outputs": [],
   "source": []
  }
 ],
 "metadata": {
  "kernelspec": {
   "display_name": "Python 3 (ipykernel)",
   "language": "python",
   "name": "python3"
  },
  "language_info": {
   "codemirror_mode": {
    "name": "ipython",
    "version": 3
   },
   "file_extension": ".py",
   "mimetype": "text/x-python",
   "name": "python",
   "nbconvert_exporter": "python",
   "pygments_lexer": "ipython3",
   "version": "3.9.1"
  }
 },
 "nbformat": 4,
 "nbformat_minor": 5
}
