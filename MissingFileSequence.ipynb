{
 "cells": [
  {
   "cell_type": "code",
   "execution_count": 3,
   "id": "d02de16d-9f64-4da1-badf-418372013a05",
   "metadata": {},
   "outputs": [
    {
     "name": "stdout",
     "output_type": "stream",
     "text": [
      "Missing sequence: []\n"
     ]
    }
   ],
   "source": [
    "import os\n",
    "import re\n",
    "\n",
    "def find_missing_sequence(directory_path):\n",
    "    # Get all file names in the directory\n",
    "    files = os.listdir(directory_path)\n",
    "    \n",
    "    # Extract numerical parts from file names\n",
    "    numbers = [int(re.search(r'\\d+', file).group()) for file in files if re.search(r'\\d+', file)]\n",
    "  # print(numbers)\n",
    "    # Find the missing sequence\n",
    "    missing_sequence = [i for i in range(min(numbers), max(numbers) + 1) if i not in numbers]\n",
    "    \n",
    "    return missing_sequence\n",
    "\n",
    "directory_path = 'C:\\\\Users\\\\91908\\\\Documents\\\\Raja\\\\Java\\\\Course\\\\SpringBootReact'\n",
    "# Specify the directory path\n",
    "#directory_path = 'C:\\\\Users\\\\91908\\\\Documents\\\\Raja\\\\Java\\\\Course\\\\PROFESSIONALFullStackDeveloper'\n",
    "\n",
    "# Call the function\n",
    "missing_sequence = find_missing_sequence(directory_path)\n",
    "\n",
    "# Print the missing sequence\n",
    "print(\"Missing sequence:\", missing_sequence)\n"
   ]
  },
  {
   "cell_type": "code",
   "execution_count": null,
   "id": "ee51eb67-be20-4a5d-9c73-529d0fc17038",
   "metadata": {},
   "outputs": [],
   "source": [
    "https://trendlyne.com/get-document/IndiaDailyDeals/file/14044/\n",
    "\n",
    "\n",
    "before this numbers ,45,46,47 there may be files present between 20231120-DailyDeals-Trendlyne to 20231106-DailyDeals-Trendlyne "
   ]
  },
  {
   "cell_type": "code",
   "execution_count": null,
   "id": "2385a1f4-eb3f-4a83-94a5-13d647549580",
   "metadata": {},
   "outputs": [],
   "source": [
    "name creation for nse stocks"
   ]
  },
  {
   "cell_type": "code",
   "execution_count": 2,
   "id": "c082f09e-5908-49bd-bfb5-eeac6a992d54",
   "metadata": {},
   "outputs": [],
   "source": [
    "import pandas as pd\n",
    "import re\n",
    "\n",
    "# Function to clean company names\n",
    "def clean_company_name(company_name):\n",
    "    # Remove special characters\n",
    "    cleaned_name = re.sub(r'[^A-Za-z0-9\\s]', '', company_name)\n",
    "\n",
    "    # Keep only the first two words\n",
    "    words = cleaned_name.split()\n",
    "    cleaned_name = ' '.join(words[:2])\n",
    "\n",
    "    return cleaned_name\n",
    "\n",
    "# Path to the Excel file\n",
    "excel_path = r'C:\\Users\\91908\\Documents\\Raja\\Share market\\Analysis\\Trendlyne\\Data\\Scrip\\NSEName.xlsx'\n",
    "\n",
    "# Read the Excel file and NSENames sheet\n",
    "df = pd.read_excel(excel_path, sheet_name='NSENames')\n",
    "\n",
    "# Clean the 'NSENames' column\n",
    "df['CleanedNames'] = df['NSENames'].apply(clean_company_name)\n",
    "\n",
    "# Save the modified DataFrame back to the Excel file\n",
    "df.to_excel(excel_path, sheet_name='NSENames', index=False)\n"
   ]
  },
  {
   "cell_type": "code",
   "execution_count": null,
   "id": "818ca6a6-a7e4-46f2-ae11-e8349e3b0443",
   "metadata": {},
   "outputs": [],
   "source": []
  }
 ],
 "metadata": {
  "kernelspec": {
   "display_name": "Python 3 (ipykernel)",
   "language": "python",
   "name": "python3"
  },
  "language_info": {
   "codemirror_mode": {
    "name": "ipython",
    "version": 3
   },
   "file_extension": ".py",
   "mimetype": "text/x-python",
   "name": "python",
   "nbconvert_exporter": "python",
   "pygments_lexer": "ipython3",
   "version": "3.9.1"
  }
 },
 "nbformat": 4,
 "nbformat_minor": 5
}
