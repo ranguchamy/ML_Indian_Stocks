{
 "cells": [
  {
   "cell_type": "code",
   "execution_count": 11,
   "id": "d0ba7779-76da-4256-b020-2b5c3c9323c0",
   "metadata": {},
   "outputs": [
    {
     "name": "stdout",
     "output_type": "stream",
     "text": [
      "2023-01-26: Next working date is 2023-01-27\n",
      "2023-01-27: Next working date is 2023-01-27\n",
      "2023-12-25: Next working date is 2023-12-26\n",
      "2024-01-26: Next working date is 2024-01-29\n",
      "2024-01-22: Next working date is 2024-01-23\n",
      "2024-01-27: Next working date is 2024-01-29\n",
      "2023-12-24: Next working date is 2023-12-26\n",
      "2024-03-29: Next working date is 2024-04-01\n",
      "2023-01-21: Next working date is 2023-01-23\n",
      "2023-01-22: Next working date is 2023-01-23\n",
      "2023-01-23: Next working date is 2023-01-23\n",
      "2023-01-24: Next working date is 2023-01-24\n"
     ]
    }
   ],
   "source": [
    "from datetime import datetime, timedelta\n",
    "\n",
    "def is_working_day(date_str):\n",
    "    # Parse the date string to datetime format\n",
    "    date_obj = datetime.strptime(date_str, '%Y-%m-%d')\n",
    "    \n",
    "    # Check if the date falls on a weekend (Saturday or Sunday)\n",
    "    if date_obj.weekday() >= 5:\n",
    "        return False\n",
    "    \n",
    "    # Check if the date falls on a special working day\n",
    "    special_working_days = {\"2024-01-27\"}  # Example: Christmas Eve\n",
    "    if date_str in special_working_days:\n",
    "        return True\n",
    "    \n",
    "    # Check if the date falls on a holiday\n",
    "    # Add your holiday logic here\n",
    "    holidays = {\"2023-01-26\", \"2023-03-07\", \"2023-03-30\", \"2023-04-04\", \"2023-04-07\", \n",
    "                \"2023-04-14\", \"2023-05-01\", \"2023-06-29\", \"2023-07-29\", \"2023-08-15\", \n",
    "                \"2023-09-19\", \"2023-10-02\", \"2023-10-24\", \"2023-11-14\", \"2023-11-27\", \n",
    "                \"2023-12-25\",\"2024-01-22\",\n",
    "                \"2024-01-26\", \"2024-03-08\", \"2024-03-25\", \"2024-03-29\", \"2024-04-11\", \n",
    "                \"2024-04-17\", \"2024-05-01\", \"2024-06-17\", \"2024-07-17\", \"2024-08-15\", \n",
    "                \"2024-10-02\", \"2024-11-01\", \"2024-11-15\", \"2024-12-25\"}\n",
    "    if date_str in holidays:\n",
    "        return False\n",
    "    \n",
    "    # If the date is not a weekend, holiday, or special working day, it's a regular working day\n",
    "    return True\n",
    "\n",
    "# Function to get the next working date if the provided date is not a working day\n",
    "def is_working_day_if_not_next_working_date(date_str):\n",
    "    # Parse the date string to datetime format\n",
    "    date_obj = datetime.strptime(date_str, '%Y-%m-%d')\n",
    "    \n",
    "    # Check if the date is a working day\n",
    "    if is_working_day(date_str):\n",
    "        return date_obj\n",
    "    \n",
    "    # If the date is not a working day, find the next working date\n",
    "    while True:\n",
    "        date_obj += timedelta(days=1)\n",
    "        if is_working_day(date_obj.strftime('%Y-%m-%d')):\n",
    "            return date_obj\n",
    "\n",
    "# Test the function with some sample dates\n",
    "dates_to_check = [\"2023-01-26\", \"2023-01-27\", \"2023-12-25\", \"2024-01-26\", \"2024-01-22\", \"2024-01-27\", \"2023-12-24\", \"2024-03-29\", \"2023-01-21\", \"2023-01-22\", \"2023-01-23\", \"2023-01-24\"]\n",
    "for date in dates_to_check:\n",
    "    next_working_date = is_working_day_if_not_next_working_date(date).strftime('%Y-%m-%d')\n",
    "    print(f\"{date}: Next working date is {next_working_date}\")\n"
   ]
  }
 ],
 "metadata": {
  "kernelspec": {
   "display_name": "Python 3 (ipykernel)",
   "language": "python",
   "name": "python3"
  },
  "language_info": {
   "codemirror_mode": {
    "name": "ipython",
    "version": 3
   },
   "file_extension": ".py",
   "mimetype": "text/x-python",
   "name": "python",
   "nbconvert_exporter": "python",
   "pygments_lexer": "ipython3",
   "version": "3.9.1"
  }
 },
 "nbformat": 4,
 "nbformat_minor": 5
}
