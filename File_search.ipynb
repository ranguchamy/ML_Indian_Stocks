{
 "cells": [
  {
   "cell_type": "code",
   "execution_count": null,
   "id": "770b1b4d-2938-4818-b33d-6c92ce4275f7",
   "metadata": {},
   "outputs": [],
   "source": [
    "File search"
   ]
  },
  {
   "cell_type": "code",
   "execution_count": 3,
   "id": "104b0e1b-7bd5-4ad9-81ab-620e7868889b",
   "metadata": {},
   "outputs": [
    {
     "name": "stdout",
     "output_type": "stream",
     "text": [
      "Matching files:\n",
      "C:\\Users\\91908\\algotrading\\ClientOccurences_Graviton.ipynb\n",
      "C:\\Users\\91908\\algotrading\\DII_Bought_Price_Increase.ipynb\n",
      "C:\\Users\\91908\\algotrading\\IndividualInvestor_Bought_Price_Increase.ipynb\n",
      "C:\\Users\\91908\\algotrading\\Individual_Investor_Complete_Shareholding_Pattern.ipynb\n",
      "C:\\Users\\91908\\algotrading\\Institutional_Investor_Complete_Shareholding_Pattern.ipynb\n",
      "C:\\Users\\91908\\algotrading\\.ipynb_checkpoints\\ClientOccurences_Graviton-checkpoint.ipynb\n",
      "C:\\Users\\91908\\algotrading\\.ipynb_checkpoints\\DII_Bought_Price_Increase-checkpoint.ipynb\n",
      "C:\\Users\\91908\\algotrading\\.ipynb_checkpoints\\IndividualInvestor_Bought_Price_Increase-checkpoint.ipynb\n",
      "C:\\Users\\91908\\algotrading\\.ipynb_checkpoints\\Individual_Investor_Complete_Shareholding_Pattern-checkpoint.ipynb\n",
      "C:\\Users\\91908\\algotrading\\.ipynb_checkpoints\\Institutional_Investor_Complete_Shareholding_Pattern-checkpoint.ipynb\n"
     ]
    }
   ],
   "source": [
    "import os\n",
    "import re\n",
    "\n",
    "directory_path = r\"C:\\Users\\91908\\algotrading\"\n",
    "regex_pattern = r\"Individual_Investor_LIST\"\n",
    "\n",
    "def search_files(directory, pattern):\n",
    "    matching_files = []\n",
    "\n",
    "    for root, dirs, files in os.walk(directory):\n",
    "        for file_name in files:\n",
    "            if file_name.endswith(\".ipynb\"):\n",
    "                file_path = os.path.join(root, file_name)\n",
    "                with open(file_path, \"r\", encoding=\"utf-8\") as file:\n",
    "                    content = file.read()\n",
    "                    if re.search(pattern, content):\n",
    "                        matching_files.append(file_path)\n",
    "\n",
    "    return matching_files\n",
    "\n",
    "if __name__ == \"__main__\":\n",
    "    matching_files = search_files(directory_path, regex_pattern)\n",
    "\n",
    "    if matching_files:\n",
    "        print(\"Matching files:\")\n",
    "        for file_path in matching_files:\n",
    "            print(file_path)\n",
    "    else:\n",
    "        print(\"No matching files found.\")\n"
   ]
  },
  {
   "cell_type": "code",
   "execution_count": null,
   "id": "c06bfc82-b228-4919-bd81-09da2f9757c5",
   "metadata": {},
   "outputs": [],
   "source": []
  }
 ],
 "metadata": {
  "kernelspec": {
   "display_name": "Python 3 (ipykernel)",
   "language": "python",
   "name": "python3"
  },
  "language_info": {
   "codemirror_mode": {
    "name": "ipython",
    "version": 3
   },
   "file_extension": ".py",
   "mimetype": "text/x-python",
   "name": "python",
   "nbconvert_exporter": "python",
   "pygments_lexer": "ipython3",
   "version": "3.9.1"
  }
 },
 "nbformat": 4,
 "nbformat_minor": 5
}
